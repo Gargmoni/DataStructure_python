{
 "cells": [
  {
   "cell_type": "code",
   "execution_count": 5,
   "id": "de94dcd5",
   "metadata": {},
   "outputs": [],
   "source": [
    "'''\n",
    "This python file contains a Queue class.\n",
    "'''\n",
    "class Queue:\n",
    "    ''' This is a queue class that defines all required functions. '''\n",
    "    def _init_(self):\n",
    "        ''' Constructor for initializing the required variables. '''\n",
    "        self.__size = 0\n",
    "        self.__value = []\n",
    "\n",
    "    def empty(self):\n",
    "        '''\n",
    "        Return True if the queue is empty.\n",
    "        :return:\n",
    "        '''\n",
    "        if self.__size == 0:\n",
    "            return True\n",
    "        else:\n",
    "            return False\n",
    "\n",
    "    def front(self):\n",
    "        '''\n",
    "        Return the front (i.e., first element).\n",
    "        :return:\n",
    "        '''\n",
    "        if self.empty():\n",
    "            print(\"Queue is empty\")\n",
    "        else:\n",
    "            return self.__value[0]\n",
    "\n",
    "    def push(self, val):\n",
    "        '''\n",
    "        Push the given element into the queue. Returns nothing.\n",
    "        :param val:\n",
    "        :return:\n",
    "        '''\n",
    "        self.__value.append(val)\n",
    "        self.__size += 1\n",
    "\n",
    "    def pop(self):\n",
    "        '''\n",
    "        Remove the front element as it follows the FIFO rule.\n",
    "        :return:\n",
    "        '''\n",
    "        if self.empty():\n",
    "            print(\"Can't remove, queue is empty!\")\n",
    "        else:\n",
    "            self.__value.pop(0)\n",
    "            self.__size -= 1\n",
    "\n",
    "    def _str_(self):\n",
    "        return f\"Queue is {self.__value} \\nSize: {self.__size}\""
   ]
  },
  {
   "cell_type": "code",
   "execution_count": null,
   "id": "5572c2bb",
   "metadata": {},
   "outputs": [],
   "source": []
  }
 ],
 "metadata": {
  "kernelspec": {
   "display_name": "Python 3 (ipykernel)",
   "language": "python",
   "name": "python3"
  },
  "language_info": {
   "codemirror_mode": {
    "name": "ipython",
    "version": 3
   },
   "file_extension": ".py",
   "mimetype": "text/x-python",
   "name": "python",
   "nbconvert_exporter": "python",
   "pygments_lexer": "ipython3",
   "version": "3.10.9"
  }
 },
 "nbformat": 4,
 "nbformat_minor": 5
}
